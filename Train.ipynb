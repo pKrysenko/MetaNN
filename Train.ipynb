{
 "cells": [
  {
   "cell_type": "code",
   "execution_count": 1,
   "id": "32a58f0a-943d-4dc0-84e5-9fed43363f91",
   "metadata": {},
   "outputs": [
    {
     "name": "stderr",
     "output_type": "stream",
     "text": [
      "2023-07-30 14:24:16.742952: W tensorflow/stream_executor/platform/default/dso_loader.cc:64] Could not load dynamic library 'libcudart.so.11.0'; dlerror: libcudart.so.11.0: cannot open shared object file: No such file or directory\n",
      "2023-07-30 14:24:16.743013: I tensorflow/stream_executor/cuda/cudart_stub.cc:29] Ignore above cudart dlerror if you do not have a GPU set up on your machine.\n"
     ]
    }
   ],
   "source": [
    "import numpy as np\n",
    "import pandas as pd\n",
    "import matplotlib.pyplot as plt\n",
    "from glob import glob\n",
    "from sklearn.preprocessing import PolynomialFeatures\n",
    "from sklearn.linear_model import LinearRegression\n",
    "from sklearn.pipeline import make_pipeline\n",
    "from sklearn.preprocessing import MinMaxScaler\n",
    "from sklearn import preprocessing\n",
    "from time import time\n",
    "import scipy\n",
    "import os\n",
    "from tempfile import TemporaryFile\n",
    "import tensorflow as tf\n",
    "from numpy import load\n"
   ]
  },
  {
   "cell_type": "code",
   "execution_count": 5,
   "id": "c319cbdf-8877-42cb-9d99-95829f44c57e",
   "metadata": {},
   "outputs": [],
   "source": [
    "existed_figures = {\"Figure1A_150x150_mkm\": \"Figure1A-2.npz\",\n",
    "                  \"Figure1B_150x45_mkm\": \"Figure1B-2.npz\",\n",
    "                  \"Figure2_600x600_nm\": \"Figure2-1.npz\",\n",
    "                  \"figure3_750_280_t150_h120_nm\": \"Figure3-2.npz\",\n",
    "                  \"figure3_600_224_t150_h100_nm\": \"Figure3-4.npz\",\n",
    "                  \"figure3_600_224_t150_h140_nm\": \"Figure3-5.npz\",\n",
    "                  \"figure3_600_224_t150_h180_nmply\": \"Figure3-6.npz\",\n",
    "                  \"figure3_600_224_t150_h220_nm\": \"Figure3-7.npz\",\n",
    "                  \"Figure4_450x450_nm\": \"Figure4-1.npz\",\n",
    "                   \"Figure5\": \"Figure5-2.npz\"\n",
    "                  }"
   ]
  },
  {
   "cell_type": "code",
   "execution_count": 2,
   "id": "177841a7-f718-4adb-8204-46943008cf9b",
   "metadata": {},
   "outputs": [],
   "source": [
    "\n",
    "files = [\"graphs/graphs/graphs/Figure1A/2/data.txt\",\n",
    "         \"graphs/graphs/graphs/Figure1B/2/data.txt\",\n",
    "         \"graphs/graphs/graphs/Figure2/1/data.txt\",\n",
    "         \"graphs/graphs/graphs/Figure3/2/data.txt\",\n",
    "         \"graphs/graphs/graphs/Figure3/4/data.txt\",\n",
    "         \"graphs/graphs/graphs/Figure3/5/data.txt\",\n",
    "         \"graphs/graphs/graphs/Figure3/6/data.txt\",\n",
    "         \"graphs/graphs/graphs/Figure3/7/data.txt\",\n",
    "         \"graphs/graphs/graphs/Figure4/1/data.txt\",\n",
    "         \"graphs/graphs/graphs/Figure5/2/data.txt\"]\n",
    "\n",
    "graphs = [\"graphs/graphs/graphs/Figure1A/2/data.txt\",  # 0\n",
    "          \"graphs/graphs/graphs/Figure1B/2/data.txt\",  # 1\n",
    "          \"graphs/graphs/graphs/Figure2/1/data.txt\",  # 2\n",
    "          \"graphs/graphs/graphs/Figure3/2/data.txt\",  # 3\n",
    "          \"graphs/graphs/graphs/Figure3/4/data.txt\",  # 4\n",
    "          \"graphs/graphs/graphs/Figure3/5/data.txt\",  # 5\n",
    "          \"graphs/graphs/graphs/Figure3/6/data.txt\",  # 6\n",
    "          \"graphs/graphs/graphs/Figure3/7/data.txt\",  # 7\n",
    "          \"graphs/graphs/graphs/Figure4/1/data.txt\",  # 8\n",
    "          \"graphs/graphs/graphs/Figure5/2/data.txt\"]  # 9\n",
    "\n",
    "structures = [\"xyzproperties/xyzproperties/Figure1A_150x150_mkm.txt\",\n",
    "              \"xyzproperties/xyzproperties/Figure1B_150x45_mkm.txt\",\n",
    "              \"xyzproperties/xyzproperties/Figure2_600x600_nm.txt\",\n",
    "              \"xyzproperties/xyzproperties/figure3_750_280_t150_h120_nm.txt\",\n",
    "              \"xyzproperties/xyzproperties/figure3_600_224_t150_h100_nm.txt\",\n",
    "              \"xyzproperties/xyzproperties/figure3_600_224_t150_h140_nm.txt\",\n",
    "              \"xyzproperties/xyzproperties/figure3_600_224_t150_h180_nmply.txt\",\n",
    "              \"xyzproperties/xyzproperties/figure3_600_224_t150_h220_nm.txt\",\n",
    "              \"xyzproperties/xyzproperties/Figure4_450x450_nm.txt\",\n",
    "              \"xyzproperties/xyzproperties/Figure5.txt\"]"
   ]
  },
  {
   "cell_type": "code",
   "execution_count": 3,
   "id": "dd11e587-419b-4d04-a898-53cfd4214df2",
   "metadata": {},
   "outputs": [],
   "source": [
    "def get_data_graph(path):\n",
    "    X = []\n",
    "    y = []\n",
    "    with open(path, \"r\") as data:\n",
    "        for d in data:\n",
    "            D = d.split(\";\")\n",
    "            if len(D) != 2:\n",
    "                break\n",
    "            X.append(float(D[0]))\n",
    "            Y = D[1].strip(\"\\n\")\n",
    "            y.append(float(Y))\n",
    "    return np.array(X).reshape(-1, 1), np.array(y).reshape(-1, 1)\n",
    "\n",
    "\n",
    "def max_min_scaler(array, max_, min_):\n",
    "    return (array - min_) / (max_ - min_)\n",
    "\n",
    "\n",
    "def get_max_min(arrays):\n",
    "    max_ = 0\n",
    "    min_ = np.inf\n",
    "    for array in arrays:\n",
    "        max_ = array.max() if array.max() > max_ else max_\n",
    "        min_ = array.min() if array.min() < min_ else min_\n",
    "    return max_, min_\n",
    "\n",
    "\n",
    "def create_struct_tensor(df):\n",
    "    xs = sorted(set(df[\"x\"].tolist()))\n",
    "    ys = sorted(set(df[\"y\"].tolist()))\n",
    "    zs = sorted(set(df[\"z\"].tolist()))\n",
    "    data = np.zeros((len(xs), len(ys), len(zs), 3))\n",
    "    for ox, x in enumerate(xs):\n",
    "        for oy, y in enumerate(ys):\n",
    "            for oz, z in enumerate(zs):\n",
    "                material = df[df.x == x][df.y == y][df.z == z][[\"p1\", \"p2\", \"p3\"]].to_numpy(dtype=np.float32)\n",
    "                if material.size > 0:\n",
    "                    data[ox][oy][oz] = material\n",
    "    return data"
   ]
  },
  {
   "cell_type": "code",
   "execution_count": 31,
   "id": "fbbbe609-bc41-4615-a124-5570c084655d",
   "metadata": {},
   "outputs": [],
   "source": [
    "def pipeline_structure(path):\n",
    "    df = pd.read_csv(path, header=None, delim_whitespace=True, names=['x', 'y', 'z', 'p1', 'p2', 'p3']).drop_duplicates(\n",
    "        ['x', 'y', 'z'])\n",
    "    print(df)\n",
    "    arr = np.array(df).T\n",
    "    for k in range(3):\n",
    "        scaler_str = MinMaxScaler()\n",
    "        new = np.reshape(arr[k + 3], (-1, 1))\n",
    "        scaler_str.fit([min(new), max(new)])\n",
    "        new = scaler_str.transform(new)\n",
    "        arr[k + 3] = new.flatten()\n",
    "    arr = arr.T\n",
    "    df = pd.DataFrame(arr, columns=['x', 'y', 'z', 'p1', 'p2', 'p3'])\n",
    "    struct_tensor = create_struct_tensor(df)\n",
    "    return struct_tensor\n",
    "\n",
    "\n",
    "# polynomial\n",
    "def pipeline_coefs_approximation(path):\n",
    "    x, y = get_data_graph(path)\n",
    "    x = x.flatten()\n",
    "    y = y.flatten()\n",
    "    scaler = MinMaxScaler()\n",
    "    x = x.reshape(-1, 1)\n",
    "    scaler.fit([[140], [371]])\n",
    "    x = scaler.transform(x)\n",
    "    x = x.flatten()\n",
    "    z = np.polyfit(x, y, 10)\n",
    "    p = np.poly1d(z)\n",
    "    xp = np.linspace(min(x), max(x), 100)\n",
    "    plt.plot(x, y, '.', label='Реальні значення')\n",
    "    plt.plot(xp, p(xp), '-', label='Апроксимація')\n",
    "    plt.ylim(0, 1)\n",
    "    plt.xlabel(\"Масштабована частота\")\n",
    "    plt.ylabel(\"Коефіцієнт пропускання\")\n",
    "    plt.legend()\n",
    "    plt.show()\n",
    "    coef = p\n",
    "    # coef = [round(val, 5) for val in np.array(coef)]\n",
    "    return coef\n",
    "\n",
    "\n",
    "# print(pipeline_coefs_approximation('graphs/graphs/graphs/Figure3/2/data.txt'))\n",
    "\n",
    "\n",
    "# interpolation\n",
    "def pipeline_coefs_interpolation(path):\n",
    "    x, y = get_data_graph(path)\n",
    "    x = x.flatten()\n",
    "    y = y.flatten()\n",
    "    x_new = np.linspace(min(x), max(x), 10)\n",
    "    f = scipy.interpolate.interp1d(x, y, kind='linear')\n",
    "    y_new = f(x_new)\n",
    "    plt.plot(x_new, y_new, 'r', label='interp/extrap')\n",
    "    plt.plot(x, y, 'b--', label='data')\n",
    "    plt.legend()\n",
    "    plt.show()\n",
    "    coef = y_new\n",
    "    return coef\n",
    "\n",
    "\n",
    "# print(pipeline_coefs_interpolation('graphs/graphs/graphs/Figure3/2/data.txt'))\n",
    "\n",
    "\n",
    "# points\n",
    "def pipeline_points(path):\n",
    "    x, y = get_data_graph(path)\n",
    "    coef = [x, y]\n",
    "    # plt.plot(x, y, 'b--', label='data')\n",
    "    # plt.legend()\n",
    "    # plt.show()\n",
    "    return coef  # return [x, y]"
   ]
  },
  {
   "cell_type": "code",
   "execution_count": 23,
   "id": "ba5c8ccc-ea97-46c6-90e5-cce9e025be8c",
   "metadata": {},
   "outputs": [],
   "source": [
    "def proc_graphs(graph_path, i):\n",
    "    if i == 'appr':\n",
    "        coef = pipeline_coefs_approximation(graph_path)  # preprocess of points/coefs\n",
    "        max_min.append([max(coef), min(coef)])\n",
    "        # print(coef)\n",
    "\n",
    "        coef = np.reshape(coef, (-1, 1))\n",
    "        scaler = MinMaxScaler()\n",
    "        scaler.fit([min(coef), max(coef)])\n",
    "        coef = scaler.transform(coef)\n",
    "        coef = np.reshape(coef, (-1, 1))\n",
    "        # print(coef)\n",
    "    elif i == 'inter':\n",
    "        coef = pipeline_coefs_interpolation(graph_path)\n",
    "        max_min.append([max(coef), min(coef)])\n",
    "        # print(coef)\n",
    "\n",
    "        coef = np.reshape(coef, (-1, 1))\n",
    "        scaler = MinMaxScaler()\n",
    "        scaler.fit([min(coef), max(coef)])\n",
    "        coef = scaler.transform(coef)\n",
    "        coef = np.reshape(coef, (-1, 1))\n",
    "        # print(coef)\n",
    "    else:\n",
    "        coef = pipeline_points(graph_path)\n",
    "        max_min.append([[0.2], [371]])\n",
    "        # print(coef)\n",
    "\n",
    "        scaler = MinMaxScaler()\n",
    "        scaler.fit([[0.2], [371]])\n",
    "        x = scaler.transform(coef[0])\n",
    "        y = coef[1]\n",
    "        it = int(len(x) / 19)\n",
    "        x, y = x[0::it], y[0::it]\n",
    "        if len(x) > 20:\n",
    "            x, y = x[1::], y[1::]\n",
    "        coef = np.concatenate((x, y), axis=None)\n",
    "        coef = coef.flatten()\n",
    "        coef = np.reshape(coef, (-1, 1))\n",
    "    return coef"
   ]
  },
  {
   "cell_type": "code",
   "execution_count": 24,
   "id": "8709ee2f-2b36-4070-b5cf-3bd95fade975",
   "metadata": {},
   "outputs": [],
   "source": [
    "data = pd.read_csv(\"data.csv\")"
   ]
  },
  {
   "cell_type": "code",
   "execution_count": 28,
   "id": "201ea93f-f84d-43be-bc6d-59d44262be2d",
   "metadata": {},
   "outputs": [],
   "source": [
    "cached_folder = \"processed_data/zozyuk/points/\"\n",
    "struct_folder = \"xyzproperties/xyzproperties/\"\n",
    "graph_folder = \"graphs/graphs/graphs/\""
   ]
  },
  {
   "cell_type": "code",
   "execution_count": 25,
   "id": "5bb460f2-2680-480a-9b39-c6cfa1f44bb5",
   "metadata": {},
   "outputs": [
    {
     "data": {
      "text/html": [
       "<div>\n",
       "<style scoped>\n",
       "    .dataframe tbody tr th:only-of-type {\n",
       "        vertical-align: middle;\n",
       "    }\n",
       "\n",
       "    .dataframe tbody tr th {\n",
       "        vertical-align: top;\n",
       "    }\n",
       "\n",
       "    .dataframe thead th {\n",
       "        text-align: right;\n",
       "    }\n",
       "</style>\n",
       "<table border=\"1\" class=\"dataframe\">\n",
       "  <thead>\n",
       "    <tr style=\"text-align: right;\">\n",
       "      <th></th>\n",
       "      <th>figure_fold</th>\n",
       "      <th>polarization</th>\n",
       "      <th>angle</th>\n",
       "      <th>degree_ns</th>\n",
       "      <th>num_plates</th>\n",
       "      <th>figure_name</th>\n",
       "    </tr>\n",
       "  </thead>\n",
       "  <tbody>\n",
       "    <tr>\n",
       "      <th>0</th>\n",
       "      <td>Figure1A/1/</td>\n",
       "      <td>co-ppl</td>\n",
       "      <td>90</td>\n",
       "      <td>2.00</td>\n",
       "      <td>1</td>\n",
       "      <td>Figure1A_150x150_mkm</td>\n",
       "    </tr>\n",
       "    <tr>\n",
       "      <th>1</th>\n",
       "      <td>figure1B/2/</td>\n",
       "      <td>cross-pol</td>\n",
       "      <td>90</td>\n",
       "      <td>2.00</td>\n",
       "      <td>1</td>\n",
       "      <td>Figure1A_150x150_mkm</td>\n",
       "    </tr>\n",
       "    <tr>\n",
       "      <th>2</th>\n",
       "      <td>figure1B/1/</td>\n",
       "      <td>co-ppl</td>\n",
       "      <td>90</td>\n",
       "      <td>2.00</td>\n",
       "      <td>1</td>\n",
       "      <td>Figure1B_150x45_mkm</td>\n",
       "    </tr>\n",
       "    <tr>\n",
       "      <th>3</th>\n",
       "      <td>figure1A/2/</td>\n",
       "      <td>cross-pol</td>\n",
       "      <td>90</td>\n",
       "      <td>2.00</td>\n",
       "      <td>1</td>\n",
       "      <td>Figure1B_150x45_mkm</td>\n",
       "    </tr>\n",
       "    <tr>\n",
       "      <th>4</th>\n",
       "      <td>figure2/1/</td>\n",
       "      <td>cross-pol</td>\n",
       "      <td>90</td>\n",
       "      <td>2.00</td>\n",
       "      <td>1</td>\n",
       "      <td>Figure2_600x600_nm</td>\n",
       "    </tr>\n",
       "    <tr>\n",
       "      <th>5</th>\n",
       "      <td>figure2/2/</td>\n",
       "      <td>cross-pol</td>\n",
       "      <td>20</td>\n",
       "      <td>2.00</td>\n",
       "      <td>1</td>\n",
       "      <td>Figure2_600x600_nm</td>\n",
       "    </tr>\n",
       "    <tr>\n",
       "      <th>6</th>\n",
       "      <td>figure2/3/</td>\n",
       "      <td>cross-pol</td>\n",
       "      <td>30</td>\n",
       "      <td>2.00</td>\n",
       "      <td>1</td>\n",
       "      <td>Figure2_600x600_nm</td>\n",
       "    </tr>\n",
       "    <tr>\n",
       "      <th>7</th>\n",
       "      <td>figure2/4/</td>\n",
       "      <td>cross-pol</td>\n",
       "      <td>40</td>\n",
       "      <td>2.00</td>\n",
       "      <td>1</td>\n",
       "      <td>Figure2_600x600_nm</td>\n",
       "    </tr>\n",
       "    <tr>\n",
       "      <th>8</th>\n",
       "      <td>figure2/5/</td>\n",
       "      <td>co-pol</td>\n",
       "      <td>90</td>\n",
       "      <td>2.00</td>\n",
       "      <td>1</td>\n",
       "      <td>Figure2_600x600_nm</td>\n",
       "    </tr>\n",
       "    <tr>\n",
       "      <th>9</th>\n",
       "      <td>figure3/1/</td>\n",
       "      <td>cross-pol</td>\n",
       "      <td>90</td>\n",
       "      <td>2.00</td>\n",
       "      <td>1</td>\n",
       "      <td>figure3_750_280_t150_h120_nm</td>\n",
       "    </tr>\n",
       "    <tr>\n",
       "      <th>10</th>\n",
       "      <td>figure3/2/</td>\n",
       "      <td>cross-pol</td>\n",
       "      <td>90</td>\n",
       "      <td>2.00</td>\n",
       "      <td>2</td>\n",
       "      <td>figure3_750_280_t150_h120_nm</td>\n",
       "    </tr>\n",
       "    <tr>\n",
       "      <th>11</th>\n",
       "      <td>figure3/4/</td>\n",
       "      <td>cross-pol</td>\n",
       "      <td>90</td>\n",
       "      <td>2.00</td>\n",
       "      <td>2</td>\n",
       "      <td>figure3_600_224_t150_h100_nm</td>\n",
       "    </tr>\n",
       "    <tr>\n",
       "      <th>12</th>\n",
       "      <td>figure3/5/</td>\n",
       "      <td>cross-pol</td>\n",
       "      <td>90</td>\n",
       "      <td>2.00</td>\n",
       "      <td>2</td>\n",
       "      <td>figure3_600_224_t150_h140_nm</td>\n",
       "    </tr>\n",
       "    <tr>\n",
       "      <th>13</th>\n",
       "      <td>figure3/6/</td>\n",
       "      <td>cross-pol</td>\n",
       "      <td>90</td>\n",
       "      <td>2.00</td>\n",
       "      <td>2</td>\n",
       "      <td>figure3_600_224_t150_h180_nmply</td>\n",
       "    </tr>\n",
       "    <tr>\n",
       "      <th>14</th>\n",
       "      <td>figure3/7/</td>\n",
       "      <td>cross-pol</td>\n",
       "      <td>90</td>\n",
       "      <td>2.00</td>\n",
       "      <td>2</td>\n",
       "      <td>figure3_600_224_t150_h220_nm</td>\n",
       "    </tr>\n",
       "    <tr>\n",
       "      <th>15</th>\n",
       "      <td>figure3/8/</td>\n",
       "      <td>cross-pol</td>\n",
       "      <td>90</td>\n",
       "      <td>2.00</td>\n",
       "      <td>2</td>\n",
       "      <td>figure3_750_280_t150_h120_nm</td>\n",
       "    </tr>\n",
       "    <tr>\n",
       "      <th>16</th>\n",
       "      <td>figure3/9/</td>\n",
       "      <td>cross-pol</td>\n",
       "      <td>90</td>\n",
       "      <td>1.73</td>\n",
       "      <td>2</td>\n",
       "      <td>figure3_750_280_t150_h120_nm</td>\n",
       "    </tr>\n",
       "    <tr>\n",
       "      <th>17</th>\n",
       "      <td>figure3/10/</td>\n",
       "      <td>cross-pol</td>\n",
       "      <td>90</td>\n",
       "      <td>1.50</td>\n",
       "      <td>2</td>\n",
       "      <td>figure3_750_280_t150_h120_nm</td>\n",
       "    </tr>\n",
       "    <tr>\n",
       "      <th>18</th>\n",
       "      <td>figure3/11/</td>\n",
       "      <td>cross-pol</td>\n",
       "      <td>90</td>\n",
       "      <td>1.30</td>\n",
       "      <td>2</td>\n",
       "      <td>figure3_750_280_t150_h120_nm</td>\n",
       "    </tr>\n",
       "    <tr>\n",
       "      <th>19</th>\n",
       "      <td>figure3/12/</td>\n",
       "      <td>cross-pol</td>\n",
       "      <td>90</td>\n",
       "      <td>1.50</td>\n",
       "      <td>2</td>\n",
       "      <td>figure3_75_30_t15_h9_mkm</td>\n",
       "    </tr>\n",
       "    <tr>\n",
       "      <th>20</th>\n",
       "      <td>figure4/1/</td>\n",
       "      <td>cross-pol</td>\n",
       "      <td>90</td>\n",
       "      <td>2.00</td>\n",
       "      <td>1</td>\n",
       "      <td>Figure4_450x450_nm</td>\n",
       "    </tr>\n",
       "    <tr>\n",
       "      <th>21</th>\n",
       "      <td>figure4/2/</td>\n",
       "      <td>co-pol</td>\n",
       "      <td>90</td>\n",
       "      <td>2.00</td>\n",
       "      <td>1</td>\n",
       "      <td>Figure4_450x450_nm</td>\n",
       "    </tr>\n",
       "    <tr>\n",
       "      <th>22</th>\n",
       "      <td>figure5/1/</td>\n",
       "      <td>co-pol</td>\n",
       "      <td>90</td>\n",
       "      <td>2.00</td>\n",
       "      <td>2</td>\n",
       "      <td>Figure5</td>\n",
       "    </tr>\n",
       "    <tr>\n",
       "      <th>23</th>\n",
       "      <td>figure5/2/</td>\n",
       "      <td>cross-pol</td>\n",
       "      <td>90</td>\n",
       "      <td>2.00</td>\n",
       "      <td>2</td>\n",
       "      <td>Figure5</td>\n",
       "    </tr>\n",
       "  </tbody>\n",
       "</table>\n",
       "</div>"
      ],
      "text/plain": [
       "    figure_fold polarization  angle  degree_ns  num_plates  \\\n",
       "0   Figure1A/1/       co-ppl     90       2.00           1   \n",
       "1   figure1B/2/    cross-pol     90       2.00           1   \n",
       "2   figure1B/1/       co-ppl     90       2.00           1   \n",
       "3   figure1A/2/    cross-pol     90       2.00           1   \n",
       "4    figure2/1/    cross-pol     90       2.00           1   \n",
       "5    figure2/2/    cross-pol     20       2.00           1   \n",
       "6    figure2/3/    cross-pol     30       2.00           1   \n",
       "7    figure2/4/    cross-pol     40       2.00           1   \n",
       "8    figure2/5/       co-pol     90       2.00           1   \n",
       "9    figure3/1/    cross-pol     90       2.00           1   \n",
       "10   figure3/2/    cross-pol     90       2.00           2   \n",
       "11   figure3/4/    cross-pol     90       2.00           2   \n",
       "12   figure3/5/    cross-pol     90       2.00           2   \n",
       "13   figure3/6/    cross-pol     90       2.00           2   \n",
       "14   figure3/7/    cross-pol     90       2.00           2   \n",
       "15   figure3/8/    cross-pol     90       2.00           2   \n",
       "16   figure3/9/    cross-pol     90       1.73           2   \n",
       "17  figure3/10/    cross-pol     90       1.50           2   \n",
       "18  figure3/11/    cross-pol     90       1.30           2   \n",
       "19  figure3/12/    cross-pol     90       1.50           2   \n",
       "20   figure4/1/    cross-pol     90       2.00           1   \n",
       "21   figure4/2/       co-pol     90       2.00           1   \n",
       "22   figure5/1/       co-pol     90       2.00           2   \n",
       "23   figure5/2/    cross-pol     90       2.00           2   \n",
       "\n",
       "                        figure_name  \n",
       "0              Figure1A_150x150_mkm  \n",
       "1              Figure1A_150x150_mkm  \n",
       "2               Figure1B_150x45_mkm  \n",
       "3               Figure1B_150x45_mkm  \n",
       "4                Figure2_600x600_nm  \n",
       "5                Figure2_600x600_nm  \n",
       "6                Figure2_600x600_nm  \n",
       "7                Figure2_600x600_nm  \n",
       "8                Figure2_600x600_nm  \n",
       "9      figure3_750_280_t150_h120_nm  \n",
       "10     figure3_750_280_t150_h120_nm  \n",
       "11     figure3_600_224_t150_h100_nm  \n",
       "12     figure3_600_224_t150_h140_nm  \n",
       "13  figure3_600_224_t150_h180_nmply  \n",
       "14     figure3_600_224_t150_h220_nm  \n",
       "15     figure3_750_280_t150_h120_nm  \n",
       "16     figure3_750_280_t150_h120_nm  \n",
       "17     figure3_750_280_t150_h120_nm  \n",
       "18     figure3_750_280_t150_h120_nm  \n",
       "19         figure3_75_30_t15_h9_mkm  \n",
       "20               Figure4_450x450_nm  \n",
       "21               Figure4_450x450_nm  \n",
       "22                          Figure5  \n",
       "23                          Figure5  "
      ]
     },
     "execution_count": 25,
     "metadata": {},
     "output_type": "execute_result"
    }
   ],
   "source": [
    "data"
   ]
  },
  {
   "cell_type": "code",
   "execution_count": 33,
   "id": "59f5d51a-f468-44e4-971b-4fd16114f5c6",
   "metadata": {},
   "outputs": [],
   "source": [
    "save_path = \"processed_data/krysenko_condi/points\""
   ]
  },
  {
   "cell_type": "code",
   "execution_count": 49,
   "id": "146a7f9e-9f1e-4cfa-b9d6-950373a9d7b8",
   "metadata": {},
   "outputs": [
    {
     "name": "stdout",
     "output_type": "stream",
     "text": [
      "             x        y     z   p1    p2          p3\n",
      "0          0.0      0.0   0.0  0.0 -26.0  62500000.0\n",
      "1          0.0      0.0  15.0  0.0 -26.0  62500000.0\n",
      "2          0.0  10605.0  15.0  0.0 -26.0  62500000.0\n",
      "3          0.0  10605.0   0.0  0.0 -26.0  62500000.0\n",
      "4       1635.0  10605.0  15.0  0.0 -26.0  62500000.0\n",
      "...        ...      ...   ...  ...   ...         ...\n",
      "198759  3960.0   8610.0  39.0  0.0 -26.0  62500000.0\n",
      "198760  3885.0   8610.0  39.0  0.0 -26.0  62500000.0\n",
      "198761  3855.0   8610.0  39.0  0.0 -26.0  62500000.0\n",
      "198762  3780.0   8610.0  39.0  0.0 -26.0  62500000.0\n",
      "198763  3750.0   8610.0  39.0  0.0 -26.0  62500000.0\n",
      "\n",
      "[120056 rows x 6 columns]\n"
     ]
    },
    {
     "name": "stderr",
     "output_type": "stream",
     "text": [
      "/tmp/ipykernel_421/267266066.py:36: UserWarning: Boolean Series key will be reindexed to match DataFrame index.\n",
      "  material = df[df.x == x][df.y == y][df.z == z][[\"p1\", \"p2\", \"p3\"]].to_numpy(dtype=np.float32)\n"
     ]
    },
    {
     "ename": "KeyboardInterrupt",
     "evalue": "",
     "output_type": "error",
     "traceback": [
      "\u001b[0;31m---------------------------------------------------------------------------\u001b[0m",
      "\u001b[0;31mKeyboardInterrupt\u001b[0m                         Traceback (most recent call last)",
      "\u001b[0;32m/tmp/ipykernel_421/814939282.py\u001b[0m in \u001b[0;36m<module>\u001b[0;34m\u001b[0m\n\u001b[1;32m     12\u001b[0m     \u001b[0;32melse\u001b[0m\u001b[0;34m:\u001b[0m\u001b[0;34m\u001b[0m\u001b[0;34m\u001b[0m\u001b[0m\n\u001b[1;32m     13\u001b[0m         \u001b[0mpath_to_raw_struct\u001b[0m \u001b[0;34m=\u001b[0m \u001b[0mos\u001b[0m\u001b[0;34m.\u001b[0m\u001b[0mpath\u001b[0m\u001b[0;34m.\u001b[0m\u001b[0mjoin\u001b[0m\u001b[0;34m(\u001b[0m\u001b[0mstruct_folder\u001b[0m\u001b[0;34m,\u001b[0m \u001b[0mrow\u001b[0m\u001b[0;34m[\u001b[0m\u001b[0;34m\"figure_name\"\u001b[0m\u001b[0;34m]\u001b[0m \u001b[0;34m+\u001b[0m \u001b[0;34m\".txt\"\u001b[0m\u001b[0;34m)\u001b[0m\u001b[0;34m\u001b[0m\u001b[0;34m\u001b[0m\u001b[0m\n\u001b[0;32m---> 14\u001b[0;31m         \u001b[0mstruct\u001b[0m \u001b[0;34m=\u001b[0m \u001b[0mpipeline_structure\u001b[0m\u001b[0;34m(\u001b[0m\u001b[0mpath_to_raw_struct\u001b[0m\u001b[0;34m)\u001b[0m\u001b[0;34m\u001b[0m\u001b[0;34m\u001b[0m\u001b[0m\n\u001b[0m\u001b[1;32m     15\u001b[0m \u001b[0;34m\u001b[0m\u001b[0m\n\u001b[1;32m     16\u001b[0m     \u001b[0mgraph_path\u001b[0m \u001b[0;34m=\u001b[0m \u001b[0mos\u001b[0m\u001b[0;34m.\u001b[0m\u001b[0mpath\u001b[0m\u001b[0;34m.\u001b[0m\u001b[0mjoin\u001b[0m\u001b[0;34m(\u001b[0m\u001b[0mgraph_folder\u001b[0m\u001b[0;34m,\u001b[0m \u001b[0mrow\u001b[0m\u001b[0;34m[\u001b[0m\u001b[0;34m\"figure_fold\"\u001b[0m\u001b[0;34m]\u001b[0m\u001b[0;34m.\u001b[0m\u001b[0mcapitalize\u001b[0m\u001b[0;34m(\u001b[0m\u001b[0;34m)\u001b[0m\u001b[0;34m,\u001b[0m \u001b[0;34m\"data.txt\"\u001b[0m\u001b[0;34m)\u001b[0m\u001b[0;34m\u001b[0m\u001b[0;34m\u001b[0m\u001b[0m\n",
      "\u001b[0;32m/tmp/ipykernel_421/1515241577.py\u001b[0m in \u001b[0;36mpipeline_structure\u001b[0;34m(path)\u001b[0m\n\u001b[1;32m     12\u001b[0m     \u001b[0marr\u001b[0m \u001b[0;34m=\u001b[0m \u001b[0marr\u001b[0m\u001b[0;34m.\u001b[0m\u001b[0mT\u001b[0m\u001b[0;34m\u001b[0m\u001b[0;34m\u001b[0m\u001b[0m\n\u001b[1;32m     13\u001b[0m     \u001b[0mdf\u001b[0m \u001b[0;34m=\u001b[0m \u001b[0mpd\u001b[0m\u001b[0;34m.\u001b[0m\u001b[0mDataFrame\u001b[0m\u001b[0;34m(\u001b[0m\u001b[0marr\u001b[0m\u001b[0;34m,\u001b[0m \u001b[0mcolumns\u001b[0m\u001b[0;34m=\u001b[0m\u001b[0;34m[\u001b[0m\u001b[0;34m'x'\u001b[0m\u001b[0;34m,\u001b[0m \u001b[0;34m'y'\u001b[0m\u001b[0;34m,\u001b[0m \u001b[0;34m'z'\u001b[0m\u001b[0;34m,\u001b[0m \u001b[0;34m'p1'\u001b[0m\u001b[0;34m,\u001b[0m \u001b[0;34m'p2'\u001b[0m\u001b[0;34m,\u001b[0m \u001b[0;34m'p3'\u001b[0m\u001b[0;34m]\u001b[0m\u001b[0;34m)\u001b[0m\u001b[0;34m\u001b[0m\u001b[0;34m\u001b[0m\u001b[0m\n\u001b[0;32m---> 14\u001b[0;31m     \u001b[0mstruct_tensor\u001b[0m \u001b[0;34m=\u001b[0m \u001b[0mcreate_struct_tensor\u001b[0m\u001b[0;34m(\u001b[0m\u001b[0mdf\u001b[0m\u001b[0;34m)\u001b[0m\u001b[0;34m\u001b[0m\u001b[0;34m\u001b[0m\u001b[0m\n\u001b[0m\u001b[1;32m     15\u001b[0m     \u001b[0;32mreturn\u001b[0m \u001b[0mstruct_tensor\u001b[0m\u001b[0;34m\u001b[0m\u001b[0;34m\u001b[0m\u001b[0m\n\u001b[1;32m     16\u001b[0m \u001b[0;34m\u001b[0m\u001b[0m\n",
      "\u001b[0;32m/tmp/ipykernel_421/267266066.py\u001b[0m in \u001b[0;36mcreate_struct_tensor\u001b[0;34m(df)\u001b[0m\n\u001b[1;32m     34\u001b[0m         \u001b[0;32mfor\u001b[0m \u001b[0moy\u001b[0m\u001b[0;34m,\u001b[0m \u001b[0my\u001b[0m \u001b[0;32min\u001b[0m \u001b[0menumerate\u001b[0m\u001b[0;34m(\u001b[0m\u001b[0mys\u001b[0m\u001b[0;34m)\u001b[0m\u001b[0;34m:\u001b[0m\u001b[0;34m\u001b[0m\u001b[0;34m\u001b[0m\u001b[0m\n\u001b[1;32m     35\u001b[0m             \u001b[0;32mfor\u001b[0m \u001b[0moz\u001b[0m\u001b[0;34m,\u001b[0m \u001b[0mz\u001b[0m \u001b[0;32min\u001b[0m \u001b[0menumerate\u001b[0m\u001b[0;34m(\u001b[0m\u001b[0mzs\u001b[0m\u001b[0;34m)\u001b[0m\u001b[0;34m:\u001b[0m\u001b[0;34m\u001b[0m\u001b[0;34m\u001b[0m\u001b[0m\n\u001b[0;32m---> 36\u001b[0;31m                 \u001b[0mmaterial\u001b[0m \u001b[0;34m=\u001b[0m \u001b[0mdf\u001b[0m\u001b[0;34m[\u001b[0m\u001b[0mdf\u001b[0m\u001b[0;34m.\u001b[0m\u001b[0mx\u001b[0m \u001b[0;34m==\u001b[0m \u001b[0mx\u001b[0m\u001b[0;34m]\u001b[0m\u001b[0;34m[\u001b[0m\u001b[0mdf\u001b[0m\u001b[0;34m.\u001b[0m\u001b[0my\u001b[0m \u001b[0;34m==\u001b[0m \u001b[0my\u001b[0m\u001b[0;34m]\u001b[0m\u001b[0;34m[\u001b[0m\u001b[0mdf\u001b[0m\u001b[0;34m.\u001b[0m\u001b[0mz\u001b[0m \u001b[0;34m==\u001b[0m \u001b[0mz\u001b[0m\u001b[0;34m]\u001b[0m\u001b[0;34m[\u001b[0m\u001b[0;34m[\u001b[0m\u001b[0;34m\"p1\"\u001b[0m\u001b[0;34m,\u001b[0m \u001b[0;34m\"p2\"\u001b[0m\u001b[0;34m,\u001b[0m \u001b[0;34m\"p3\"\u001b[0m\u001b[0;34m]\u001b[0m\u001b[0;34m]\u001b[0m\u001b[0;34m.\u001b[0m\u001b[0mto_numpy\u001b[0m\u001b[0;34m(\u001b[0m\u001b[0mdtype\u001b[0m\u001b[0;34m=\u001b[0m\u001b[0mnp\u001b[0m\u001b[0;34m.\u001b[0m\u001b[0mfloat32\u001b[0m\u001b[0;34m)\u001b[0m\u001b[0;34m\u001b[0m\u001b[0;34m\u001b[0m\u001b[0m\n\u001b[0m\u001b[1;32m     37\u001b[0m                 \u001b[0;32mif\u001b[0m \u001b[0mmaterial\u001b[0m\u001b[0;34m.\u001b[0m\u001b[0msize\u001b[0m \u001b[0;34m>\u001b[0m \u001b[0;36m0\u001b[0m\u001b[0;34m:\u001b[0m\u001b[0;34m\u001b[0m\u001b[0;34m\u001b[0m\u001b[0m\n\u001b[1;32m     38\u001b[0m                     \u001b[0mdata\u001b[0m\u001b[0;34m[\u001b[0m\u001b[0mox\u001b[0m\u001b[0;34m]\u001b[0m\u001b[0;34m[\u001b[0m\u001b[0moy\u001b[0m\u001b[0;34m]\u001b[0m\u001b[0;34m[\u001b[0m\u001b[0moz\u001b[0m\u001b[0;34m]\u001b[0m \u001b[0;34m=\u001b[0m \u001b[0mmaterial\u001b[0m\u001b[0;34m\u001b[0m\u001b[0;34m\u001b[0m\u001b[0m\n",
      "\u001b[0;32m~/.local/lib/python3.8/site-packages/pandas/core/frame.py\u001b[0m in \u001b[0;36m__getitem__\u001b[0;34m(self, key)\u001b[0m\n\u001b[1;32m   3447\u001b[0m         \u001b[0;31m# Do we have a (boolean) 1d indexer?\u001b[0m\u001b[0;34m\u001b[0m\u001b[0;34m\u001b[0m\u001b[0;34m\u001b[0m\u001b[0m\n\u001b[1;32m   3448\u001b[0m         \u001b[0;32mif\u001b[0m \u001b[0mcom\u001b[0m\u001b[0;34m.\u001b[0m\u001b[0mis_bool_indexer\u001b[0m\u001b[0;34m(\u001b[0m\u001b[0mkey\u001b[0m\u001b[0;34m)\u001b[0m\u001b[0;34m:\u001b[0m\u001b[0;34m\u001b[0m\u001b[0;34m\u001b[0m\u001b[0m\n\u001b[0;32m-> 3449\u001b[0;31m             \u001b[0;32mreturn\u001b[0m \u001b[0mself\u001b[0m\u001b[0;34m.\u001b[0m\u001b[0m_getitem_bool_array\u001b[0m\u001b[0;34m(\u001b[0m\u001b[0mkey\u001b[0m\u001b[0;34m)\u001b[0m\u001b[0;34m\u001b[0m\u001b[0;34m\u001b[0m\u001b[0m\n\u001b[0m\u001b[1;32m   3450\u001b[0m \u001b[0;34m\u001b[0m\u001b[0m\n\u001b[1;32m   3451\u001b[0m         \u001b[0;31m# We are left with two options: a single key, and a collection of keys,\u001b[0m\u001b[0;34m\u001b[0m\u001b[0;34m\u001b[0m\u001b[0;34m\u001b[0m\u001b[0m\n",
      "\u001b[0;32m~/.local/lib/python3.8/site-packages/pandas/core/frame.py\u001b[0m in \u001b[0;36m_getitem_bool_array\u001b[0;34m(self, key)\u001b[0m\n\u001b[1;32m   3502\u001b[0m         \u001b[0mkey\u001b[0m \u001b[0;34m=\u001b[0m \u001b[0mcheck_bool_indexer\u001b[0m\u001b[0;34m(\u001b[0m\u001b[0mself\u001b[0m\u001b[0;34m.\u001b[0m\u001b[0mindex\u001b[0m\u001b[0;34m,\u001b[0m \u001b[0mkey\u001b[0m\u001b[0;34m)\u001b[0m\u001b[0;34m\u001b[0m\u001b[0;34m\u001b[0m\u001b[0m\n\u001b[1;32m   3503\u001b[0m         \u001b[0mindexer\u001b[0m \u001b[0;34m=\u001b[0m \u001b[0mkey\u001b[0m\u001b[0;34m.\u001b[0m\u001b[0mnonzero\u001b[0m\u001b[0;34m(\u001b[0m\u001b[0;34m)\u001b[0m\u001b[0;34m[\u001b[0m\u001b[0;36m0\u001b[0m\u001b[0;34m]\u001b[0m\u001b[0;34m\u001b[0m\u001b[0;34m\u001b[0m\u001b[0m\n\u001b[0;32m-> 3504\u001b[0;31m         \u001b[0;32mreturn\u001b[0m \u001b[0mself\u001b[0m\u001b[0;34m.\u001b[0m\u001b[0m_take_with_is_copy\u001b[0m\u001b[0;34m(\u001b[0m\u001b[0mindexer\u001b[0m\u001b[0;34m,\u001b[0m \u001b[0maxis\u001b[0m\u001b[0;34m=\u001b[0m\u001b[0;36m0\u001b[0m\u001b[0;34m)\u001b[0m\u001b[0;34m\u001b[0m\u001b[0;34m\u001b[0m\u001b[0m\n\u001b[0m\u001b[1;32m   3505\u001b[0m \u001b[0;34m\u001b[0m\u001b[0m\n\u001b[1;32m   3506\u001b[0m     \u001b[0;32mdef\u001b[0m \u001b[0m_getitem_multilevel\u001b[0m\u001b[0;34m(\u001b[0m\u001b[0mself\u001b[0m\u001b[0;34m,\u001b[0m \u001b[0mkey\u001b[0m\u001b[0;34m)\u001b[0m\u001b[0;34m:\u001b[0m\u001b[0;34m\u001b[0m\u001b[0;34m\u001b[0m\u001b[0m\n",
      "\u001b[0;32m~/.local/lib/python3.8/site-packages/pandas/core/generic.py\u001b[0m in \u001b[0;36m_take_with_is_copy\u001b[0;34m(self, indices, axis)\u001b[0m\n\u001b[1;32m   3628\u001b[0m         \u001b[0mresult\u001b[0m \u001b[0;34m=\u001b[0m \u001b[0mself\u001b[0m\u001b[0;34m.\u001b[0m\u001b[0mtake\u001b[0m\u001b[0;34m(\u001b[0m\u001b[0mindices\u001b[0m\u001b[0;34m=\u001b[0m\u001b[0mindices\u001b[0m\u001b[0;34m,\u001b[0m \u001b[0maxis\u001b[0m\u001b[0;34m=\u001b[0m\u001b[0maxis\u001b[0m\u001b[0;34m)\u001b[0m\u001b[0;34m\u001b[0m\u001b[0;34m\u001b[0m\u001b[0m\n\u001b[1;32m   3629\u001b[0m         \u001b[0;31m# Maybe set copy if we didn't actually change the index.\u001b[0m\u001b[0;34m\u001b[0m\u001b[0;34m\u001b[0m\u001b[0;34m\u001b[0m\u001b[0m\n\u001b[0;32m-> 3630\u001b[0;31m         \u001b[0;32mif\u001b[0m \u001b[0;32mnot\u001b[0m \u001b[0mresult\u001b[0m\u001b[0;34m.\u001b[0m\u001b[0m_get_axis\u001b[0m\u001b[0;34m(\u001b[0m\u001b[0maxis\u001b[0m\u001b[0;34m)\u001b[0m\u001b[0;34m.\u001b[0m\u001b[0mequals\u001b[0m\u001b[0;34m(\u001b[0m\u001b[0mself\u001b[0m\u001b[0;34m.\u001b[0m\u001b[0m_get_axis\u001b[0m\u001b[0;34m(\u001b[0m\u001b[0maxis\u001b[0m\u001b[0;34m)\u001b[0m\u001b[0;34m)\u001b[0m\u001b[0;34m:\u001b[0m\u001b[0;34m\u001b[0m\u001b[0;34m\u001b[0m\u001b[0m\n\u001b[0m\u001b[1;32m   3631\u001b[0m             \u001b[0mresult\u001b[0m\u001b[0;34m.\u001b[0m\u001b[0m_set_is_copy\u001b[0m\u001b[0;34m(\u001b[0m\u001b[0mself\u001b[0m\u001b[0;34m)\u001b[0m\u001b[0;34m\u001b[0m\u001b[0;34m\u001b[0m\u001b[0m\n\u001b[1;32m   3632\u001b[0m         \u001b[0;32mreturn\u001b[0m \u001b[0mresult\u001b[0m\u001b[0;34m\u001b[0m\u001b[0;34m\u001b[0m\u001b[0m\n",
      "\u001b[0;32m~/.local/lib/python3.8/site-packages/pandas/core/indexes/base.py\u001b[0m in \u001b[0;36mequals\u001b[0;34m(self, other)\u001b[0m\n\u001b[1;32m   4803\u001b[0m             \u001b[0;32mreturn\u001b[0m \u001b[0mother\u001b[0m\u001b[0;34m.\u001b[0m\u001b[0mequals\u001b[0m\u001b[0;34m(\u001b[0m\u001b[0mself\u001b[0m\u001b[0;34m)\u001b[0m\u001b[0;34m\u001b[0m\u001b[0;34m\u001b[0m\u001b[0m\n\u001b[1;32m   4804\u001b[0m \u001b[0;34m\u001b[0m\u001b[0m\n\u001b[0;32m-> 4805\u001b[0;31m         \u001b[0;32mreturn\u001b[0m \u001b[0marray_equivalent\u001b[0m\u001b[0;34m(\u001b[0m\u001b[0mself\u001b[0m\u001b[0;34m.\u001b[0m\u001b[0m_values\u001b[0m\u001b[0;34m,\u001b[0m \u001b[0mother\u001b[0m\u001b[0;34m.\u001b[0m\u001b[0m_values\u001b[0m\u001b[0;34m)\u001b[0m\u001b[0;34m\u001b[0m\u001b[0;34m\u001b[0m\u001b[0m\n\u001b[0m\u001b[1;32m   4806\u001b[0m \u001b[0;34m\u001b[0m\u001b[0m\n\u001b[1;32m   4807\u001b[0m     \u001b[0;34m@\u001b[0m\u001b[0mfinal\u001b[0m\u001b[0;34m\u001b[0m\u001b[0;34m\u001b[0m\u001b[0m\n",
      "\u001b[0;32m~/.local/lib/python3.8/site-packages/pandas/core/dtypes/missing.py\u001b[0m in \u001b[0;36marray_equivalent\u001b[0;34m(left, right, strict_nan, dtype_equal)\u001b[0m\n\u001b[1;32m    467\u001b[0m         \u001b[0;32mreturn\u001b[0m \u001b[0;32mFalse\u001b[0m\u001b[0;34m\u001b[0m\u001b[0;34m\u001b[0m\u001b[0m\n\u001b[1;32m    468\u001b[0m \u001b[0;34m\u001b[0m\u001b[0m\n\u001b[0;32m--> 469\u001b[0;31m     \u001b[0;32mreturn\u001b[0m \u001b[0mnp\u001b[0m\u001b[0;34m.\u001b[0m\u001b[0marray_equal\u001b[0m\u001b[0;34m(\u001b[0m\u001b[0mleft\u001b[0m\u001b[0;34m,\u001b[0m \u001b[0mright\u001b[0m\u001b[0;34m)\u001b[0m\u001b[0;34m\u001b[0m\u001b[0;34m\u001b[0m\u001b[0m\n\u001b[0m\u001b[1;32m    470\u001b[0m \u001b[0;34m\u001b[0m\u001b[0m\n\u001b[1;32m    471\u001b[0m \u001b[0;34m\u001b[0m\u001b[0m\n",
      "\u001b[0;32m<__array_function__ internals>\u001b[0m in \u001b[0;36marray_equal\u001b[0;34m(*args, **kwargs)\u001b[0m\n",
      "\u001b[0;32m~/.local/lib/python3.8/site-packages/numpy/core/numeric.py\u001b[0m in \u001b[0;36marray_equal\u001b[0;34m(a1, a2, equal_nan)\u001b[0m\n\u001b[1;32m   2444\u001b[0m         \u001b[0;32mreturn\u001b[0m \u001b[0;32mFalse\u001b[0m\u001b[0;34m\u001b[0m\u001b[0;34m\u001b[0m\u001b[0m\n\u001b[1;32m   2445\u001b[0m     \u001b[0;32mif\u001b[0m \u001b[0;32mnot\u001b[0m \u001b[0mequal_nan\u001b[0m\u001b[0;34m:\u001b[0m\u001b[0;34m\u001b[0m\u001b[0;34m\u001b[0m\u001b[0m\n\u001b[0;32m-> 2446\u001b[0;31m         \u001b[0;32mreturn\u001b[0m \u001b[0mbool\u001b[0m\u001b[0;34m(\u001b[0m\u001b[0masarray\u001b[0m\u001b[0;34m(\u001b[0m\u001b[0ma1\u001b[0m \u001b[0;34m==\u001b[0m \u001b[0ma2\u001b[0m\u001b[0;34m)\u001b[0m\u001b[0;34m.\u001b[0m\u001b[0mall\u001b[0m\u001b[0;34m(\u001b[0m\u001b[0;34m)\u001b[0m\u001b[0;34m)\u001b[0m\u001b[0;34m\u001b[0m\u001b[0;34m\u001b[0m\u001b[0m\n\u001b[0m\u001b[1;32m   2447\u001b[0m     \u001b[0;31m# Handling NaN values if equal_nan is True\u001b[0m\u001b[0;34m\u001b[0m\u001b[0;34m\u001b[0m\u001b[0;34m\u001b[0m\u001b[0m\n\u001b[1;32m   2448\u001b[0m     \u001b[0ma1nan\u001b[0m\u001b[0;34m,\u001b[0m \u001b[0ma2nan\u001b[0m \u001b[0;34m=\u001b[0m \u001b[0misnan\u001b[0m\u001b[0;34m(\u001b[0m\u001b[0ma1\u001b[0m\u001b[0;34m)\u001b[0m\u001b[0;34m,\u001b[0m \u001b[0misnan\u001b[0m\u001b[0;34m(\u001b[0m\u001b[0ma2\u001b[0m\u001b[0;34m)\u001b[0m\u001b[0;34m\u001b[0m\u001b[0;34m\u001b[0m\u001b[0m\n",
      "\u001b[0;31mKeyboardInterrupt\u001b[0m: "
     ]
    }
   ],
   "source": [
    "coefs = []\n",
    "structs = []\n",
    "max_min = []\n",
    "exp_conds = []\n",
    "for ind, row in data.iterrows():\n",
    "    exp_conds.append(f\"{row['polarization']}_{row['angle']}_{row['degree_ns']}_{row['num_plates']}\")\n",
    "    existed_struct = existed_figures.get(row[\"figure_name\"])\n",
    "    if existed_struct:\n",
    "        path_to_existed_struct = os.path.join(cached_folder, existed_struct)\n",
    "        #print(path_to_existed_struct)\n",
    "        struct = np.load(path_to_existed_struct)[\"struct\"]\n",
    "    else:\n",
    "        path_to_raw_struct = os.path.join(struct_folder, row[\"figure_name\"] + \".txt\")\n",
    "        struct = pipeline_structure(path_to_raw_struct)\n",
    "    \n",
    "    graph_path = os.path.join(graph_folder, row[\"figure_fold\"].capitalize(), \"data.txt\")\n",
    "    structs.append(struct)\n",
    "    coef = pipeline_points(graph_path)\n",
    "    #print(coef)\n",
    "    max_min.append([[0.2], [371]])\n",
    "    # print(coef)\n",
    "\n",
    "    scaler = MinMaxScaler()\n",
    "    scaler.fit([[0.2], [371]])\n",
    "    x = scaler.transform(coef[0])\n",
    "    y = coef[1]\n",
    "    it = int(len(x) / 19)\n",
    "    x, y = x[0::it], y[0::it]\n",
    "    if len(x) > 20:\n",
    "        x, y = x[1::], y[1::]\n",
    "    coef = np.concatenate((x, y), axis=None)\n",
    "    coef = coef.flatten()\n",
    "    coef = np.reshape(coef, (-1, 1))\n",
    "    coefs.append(coef)\n",
    "    \n",
    "i = 0\n",
    "for coef, struct, figure_fold, exp_cond in zip(coefs, structs, data.figure_fold.tolist(), exp_conds):\n",
    "    i+=1\n",
    "    print(i)\n",
    "    name = f\"{figure_fold.split('/')[0]}-{figure_fold.split('/')[1]}_{exp_cond}\"\n",
    "    save_name_data = os.path.join(save_path, name + \".npz\")\n",
    "    save_name_mm = os.path.join(save_path, \"mm.npz\")\n",
    "    np.savez(save_name_data, struct=struct, coef=coef)\n",
    "    if save_path == \"processed_data/points/\":\n",
    "        np.savez(save_name_mm, mm_c_x=(0.2, 371), mm_c_y=(0, 1))\n",
    "    "
   ]
  },
  {
   "cell_type": "code",
   "execution_count": 43,
   "id": "80507547-f57f-4999-b3d9-9bae668f828e",
   "metadata": {},
   "outputs": [
    {
     "data": {
      "text/plain": [
       "24"
      ]
     },
     "execution_count": 43,
     "metadata": {},
     "output_type": "execute_result"
    }
   ],
   "source": [
    "len(data.figure_fold.tolist())"
   ]
  },
  {
   "cell_type": "code",
   "execution_count": null,
   "id": "eb2d1d5d-6386-44a8-8b99-6dbd63f111fd",
   "metadata": {},
   "outputs": [],
   "source": [
    "len(structs)"
   ]
  },
  {
   "cell_type": "code",
   "execution_count": null,
   "id": "c7d2faf3-f790-4e41-b836-d051edbb2bd4",
   "metadata": {},
   "outputs": [],
   "source": []
  },
  {
   "cell_type": "code",
   "execution_count": 62,
   "id": "372df40c-4f40-4e68-933d-7f89f8d3494a",
   "metadata": {},
   "outputs": [],
   "source": [
    "a = pd.DataFrame(np.random.randn(10,2), columns=[\"a\", \"b\"])"
   ]
  },
  {
   "cell_type": "code",
   "execution_count": 71,
   "id": "3cf9c736-3906-4a94-b605-5d3c1d162a12",
   "metadata": {},
   "outputs": [
    {
     "name": "stderr",
     "output_type": "stream",
     "text": [
      "<magic-timeit>:1: UserWarning: Boolean Series key will be reindexed to match DataFrame index.\n"
     ]
    },
    {
     "name": "stdout",
     "output_type": "stream",
     "text": [
      "747 µs ± 39.6 µs per loop (mean ± std. dev. of 7 runs, 1000 loops each)\n"
     ]
    }
   ],
   "source": [
    "%%timeit\n",
    "c = a[a.a > 0.514204][a.b > 0]"
   ]
  },
  {
   "cell_type": "code",
   "execution_count": 76,
   "id": "63a49d34-8235-4cf6-870b-29f4bc665f57",
   "metadata": {},
   "outputs": [
    {
     "name": "stdout",
     "output_type": "stream",
     "text": [
      "381 µs ± 7.08 µs per loop (mean ± std. dev. of 7 runs, 1000 loops each)\n"
     ]
    }
   ],
   "source": [
    "%%timeit\n",
    "a[(a.a > 0.514204) & (a.b > 0)]"
   ]
  },
  {
   "cell_type": "code",
   "execution_count": 77,
   "id": "57486799-550e-4aef-aafc-aadc90ac3bd2",
   "metadata": {},
   "outputs": [
    {
     "data": {
      "text/html": [
       "<div>\n",
       "<style scoped>\n",
       "    .dataframe tbody tr th:only-of-type {\n",
       "        vertical-align: middle;\n",
       "    }\n",
       "\n",
       "    .dataframe tbody tr th {\n",
       "        vertical-align: top;\n",
       "    }\n",
       "\n",
       "    .dataframe thead th {\n",
       "        text-align: right;\n",
       "    }\n",
       "</style>\n",
       "<table border=\"1\" class=\"dataframe\">\n",
       "  <thead>\n",
       "    <tr style=\"text-align: right;\">\n",
       "      <th></th>\n",
       "      <th>a</th>\n",
       "      <th>b</th>\n",
       "    </tr>\n",
       "  </thead>\n",
       "  <tbody>\n",
       "    <tr>\n",
       "      <th>1</th>\n",
       "      <td>0.829117</td>\n",
       "      <td>0.385760</td>\n",
       "    </tr>\n",
       "    <tr>\n",
       "      <th>4</th>\n",
       "      <td>0.665851</td>\n",
       "      <td>0.357557</td>\n",
       "    </tr>\n",
       "    <tr>\n",
       "      <th>9</th>\n",
       "      <td>1.151816</td>\n",
       "      <td>1.551877</td>\n",
       "    </tr>\n",
       "  </tbody>\n",
       "</table>\n",
       "</div>"
      ],
      "text/plain": [
       "          a         b\n",
       "1  0.829117  0.385760\n",
       "4  0.665851  0.357557\n",
       "9  1.151816  1.551877"
      ]
     },
     "execution_count": 77,
     "metadata": {},
     "output_type": "execute_result"
    }
   ],
   "source": [
    "c[[\"a\", \"b\"]]"
   ]
  },
  {
   "cell_type": "code",
   "execution_count": 74,
   "id": "06455870-181d-4332-9d14-fe840264dc8f",
   "metadata": {},
   "outputs": [
    {
     "name": "stderr",
     "output_type": "stream",
     "text": [
      "/tmp/ipykernel_421/718493333.py:1: UserWarning: Boolean Series key will be reindexed to match DataFrame index.\n",
      "  a[a.a > 0.514204][a.b > 0]\n"
     ]
    },
    {
     "data": {
      "text/html": [
       "<div>\n",
       "<style scoped>\n",
       "    .dataframe tbody tr th:only-of-type {\n",
       "        vertical-align: middle;\n",
       "    }\n",
       "\n",
       "    .dataframe tbody tr th {\n",
       "        vertical-align: top;\n",
       "    }\n",
       "\n",
       "    .dataframe thead th {\n",
       "        text-align: right;\n",
       "    }\n",
       "</style>\n",
       "<table border=\"1\" class=\"dataframe\">\n",
       "  <thead>\n",
       "    <tr style=\"text-align: right;\">\n",
       "      <th></th>\n",
       "      <th>a</th>\n",
       "      <th>b</th>\n",
       "    </tr>\n",
       "  </thead>\n",
       "  <tbody>\n",
       "    <tr>\n",
       "      <th>1</th>\n",
       "      <td>0.829117</td>\n",
       "      <td>0.385760</td>\n",
       "    </tr>\n",
       "    <tr>\n",
       "      <th>4</th>\n",
       "      <td>0.665851</td>\n",
       "      <td>0.357557</td>\n",
       "    </tr>\n",
       "    <tr>\n",
       "      <th>9</th>\n",
       "      <td>1.151816</td>\n",
       "      <td>1.551877</td>\n",
       "    </tr>\n",
       "  </tbody>\n",
       "</table>\n",
       "</div>"
      ],
      "text/plain": [
       "          a         b\n",
       "1  0.829117  0.385760\n",
       "4  0.665851  0.357557\n",
       "9  1.151816  1.551877"
      ]
     },
     "execution_count": 74,
     "metadata": {},
     "output_type": "execute_result"
    }
   ],
   "source": [
    "a[a.a > 0.514204][a.b > 0]"
   ]
  },
  {
   "cell_type": "code",
   "execution_count": 1,
   "id": "1c8cd70e-4df3-4a37-a3aa-6fc614fb636c",
   "metadata": {},
   "outputs": [],
   "source": [
    "import torch"
   ]
  },
  {
   "cell_type": "code",
   "execution_count": 7,
   "id": "4e734de4-e203-4323-92e5-dadd93045cbe",
   "metadata": {},
   "outputs": [
    {
     "data": {
      "text/plain": [
       "torch.Size([1, 4])"
      ]
     },
     "execution_count": 7,
     "metadata": {},
     "output_type": "execute_result"
    }
   ],
   "source": [
    "torch.cat([torch.tensor([[1,2]]), torch.tensor([[3,4]])], axis=-1).size()"
   ]
  },
  {
   "cell_type": "code",
   "execution_count": 17,
   "id": "9f4de2a2-0449-478f-975c-2557b8787c8b",
   "metadata": {},
   "outputs": [],
   "source": [
    "import glob\n",
    "import numpy as np\n",
    "from matplotlib import pyplot as plt"
   ]
  },
  {
   "cell_type": "code",
   "execution_count": 30,
   "id": "d60ccd6d-0c48-4e0c-8903-bd4dad85acdb",
   "metadata": {},
   "outputs": [],
   "source": [
    "def get_points(file):\n",
    "    coef=np.load(file)[\"coef\"]\n",
    "    x = coef[:20]\n",
    "    y = coef[20:]\n",
    "    plt.plot(x)\n",
    "    plt.plot(y)\n",
    "    print(x)\n",
    "    #return coef"
   ]
  },
  {
   "cell_type": "code",
   "execution_count": 40,
   "id": "83f93ec3-77f7-46d4-bb1c-8c9b51c59575",
   "metadata": {},
   "outputs": [],
   "source": [
    "files = list(glob.glob(\"processed_data/zozyuk/points/*.npz\"))"
   ]
  },
  {
   "cell_type": "code",
   "execution_count": 32,
   "id": "0b3dc6a0-1667-41df-ba53-618d2f456d3a",
   "metadata": {},
   "outputs": [
    {
     "data": {
      "text/plain": [
       "['processed_data/krysenko_condi/points/figure2-1_cross-pol_90_2.0_1.npz',\n",
       " 'processed_data/krysenko_condi/points/figure2-2_cross-pol_20_2.0_1.npz',\n",
       " 'processed_data/krysenko_condi/points/figure2-3_cross-pol_30_2.0_1.npz',\n",
       " 'processed_data/krysenko_condi/points/figure2-4_cross-pol_40_2.0_1.npz',\n",
       " 'processed_data/krysenko_condi/points/figure2-5_co-pol_90_2.0_1.npz']"
      ]
     },
     "execution_count": 32,
     "metadata": {},
     "output_type": "execute_result"
    }
   ],
   "source": [
    "files"
   ]
  },
  {
   "cell_type": "code",
   "execution_count": 37,
   "id": "35ac08a9-29bf-4dfd-b08a-b725f00065b6",
   "metadata": {},
   "outputs": [
    {
     "ename": "IndexError",
     "evalue": "list index out of range",
     "output_type": "error",
     "traceback": [
      "\u001b[0;31m---------------------------------------------------------------------------\u001b[0m",
      "\u001b[0;31mIndexError\u001b[0m                                Traceback (most recent call last)",
      "\u001b[0;32m/tmp/ipykernel_1058/215541866.py\u001b[0m in \u001b[0;36m<module>\u001b[0;34m\u001b[0m\n\u001b[0;32m----> 1\u001b[0;31m \u001b[0mget_points\u001b[0m\u001b[0;34m(\u001b[0m\u001b[0mfiles\u001b[0m\u001b[0;34m[\u001b[0m\u001b[0;36m5\u001b[0m\u001b[0;34m]\u001b[0m\u001b[0;34m)\u001b[0m\u001b[0;34m\u001b[0m\u001b[0;34m\u001b[0m\u001b[0m\n\u001b[0m",
      "\u001b[0;31mIndexError\u001b[0m: list index out of range"
     ]
    }
   ],
   "source": [
    "get_points(files[5])"
   ]
  },
  {
   "cell_type": "code",
   "execution_count": 41,
   "id": "3bc486af-7ad9-4390-b3b8-0095d526c8aa",
   "metadata": {},
   "outputs": [
    {
     "ename": "KeyError",
     "evalue": "'struct is not a file in the archive'",
     "output_type": "error",
     "traceback": [
      "\u001b[0;31m---------------------------------------------------------------------------\u001b[0m",
      "\u001b[0;31mKeyError\u001b[0m                                  Traceback (most recent call last)",
      "\u001b[0;32m/tmp/ipykernel_1058/649531616.py\u001b[0m in \u001b[0;36m<module>\u001b[0;34m\u001b[0m\n\u001b[0;32m----> 1\u001b[0;31m \u001b[0;34m[\u001b[0m\u001b[0mnp\u001b[0m\u001b[0;34m.\u001b[0m\u001b[0mload\u001b[0m\u001b[0;34m(\u001b[0m\u001b[0mfile\u001b[0m\u001b[0;34m)\u001b[0m\u001b[0;34m[\u001b[0m\u001b[0;34m\"struct\"\u001b[0m\u001b[0;34m]\u001b[0m \u001b[0;32mfor\u001b[0m \u001b[0mfile\u001b[0m \u001b[0;32min\u001b[0m \u001b[0mfiles\u001b[0m\u001b[0;34m]\u001b[0m\u001b[0;34m\u001b[0m\u001b[0;34m\u001b[0m\u001b[0m\n\u001b[0m\u001b[1;32m      2\u001b[0m \u001b[0mnp\u001b[0m\u001b[0;34m.\u001b[0m\u001b[0mload\u001b[0m\u001b[0;34m(\u001b[0m\u001b[0;34m\"processed_data/zozyuk/points/Figure1B-2.npz\"\u001b[0m\u001b[0;34m)\u001b[0m\u001b[0;34m[\u001b[0m\u001b[0;34m\"struct\"\u001b[0m\u001b[0;34m]\u001b[0m\u001b[0;34m\u001b[0m\u001b[0;34m\u001b[0m\u001b[0m\n",
      "\u001b[0;32m/tmp/ipykernel_1058/649531616.py\u001b[0m in \u001b[0;36m<listcomp>\u001b[0;34m(.0)\u001b[0m\n\u001b[0;32m----> 1\u001b[0;31m \u001b[0;34m[\u001b[0m\u001b[0mnp\u001b[0m\u001b[0;34m.\u001b[0m\u001b[0mload\u001b[0m\u001b[0;34m(\u001b[0m\u001b[0mfile\u001b[0m\u001b[0;34m)\u001b[0m\u001b[0;34m[\u001b[0m\u001b[0;34m\"struct\"\u001b[0m\u001b[0;34m]\u001b[0m \u001b[0;32mfor\u001b[0m \u001b[0mfile\u001b[0m \u001b[0;32min\u001b[0m \u001b[0mfiles\u001b[0m\u001b[0;34m]\u001b[0m\u001b[0;34m\u001b[0m\u001b[0;34m\u001b[0m\u001b[0m\n\u001b[0m\u001b[1;32m      2\u001b[0m \u001b[0mnp\u001b[0m\u001b[0;34m.\u001b[0m\u001b[0mload\u001b[0m\u001b[0;34m(\u001b[0m\u001b[0;34m\"processed_data/zozyuk/points/Figure1B-2.npz\"\u001b[0m\u001b[0;34m)\u001b[0m\u001b[0;34m[\u001b[0m\u001b[0;34m\"struct\"\u001b[0m\u001b[0;34m]\u001b[0m\u001b[0;34m\u001b[0m\u001b[0;34m\u001b[0m\u001b[0m\n",
      "\u001b[0;32m~/.local/lib/python3.8/site-packages/numpy/lib/npyio.py\u001b[0m in \u001b[0;36m__getitem__\u001b[0;34m(self, key)\u001b[0m\n\u001b[1;32m    258\u001b[0m                 \u001b[0;32mreturn\u001b[0m \u001b[0mself\u001b[0m\u001b[0;34m.\u001b[0m\u001b[0mzip\u001b[0m\u001b[0;34m.\u001b[0m\u001b[0mread\u001b[0m\u001b[0;34m(\u001b[0m\u001b[0mkey\u001b[0m\u001b[0;34m)\u001b[0m\u001b[0;34m\u001b[0m\u001b[0;34m\u001b[0m\u001b[0m\n\u001b[1;32m    259\u001b[0m         \u001b[0;32melse\u001b[0m\u001b[0;34m:\u001b[0m\u001b[0;34m\u001b[0m\u001b[0;34m\u001b[0m\u001b[0m\n\u001b[0;32m--> 260\u001b[0;31m             \u001b[0;32mraise\u001b[0m \u001b[0mKeyError\u001b[0m\u001b[0;34m(\u001b[0m\u001b[0;34m\"%s is not a file in the archive\"\u001b[0m \u001b[0;34m%\u001b[0m \u001b[0mkey\u001b[0m\u001b[0;34m)\u001b[0m\u001b[0;34m\u001b[0m\u001b[0;34m\u001b[0m\u001b[0m\n\u001b[0m\u001b[1;32m    261\u001b[0m \u001b[0;34m\u001b[0m\u001b[0m\n\u001b[1;32m    262\u001b[0m \u001b[0;34m\u001b[0m\u001b[0m\n",
      "\u001b[0;31mKeyError\u001b[0m: 'struct is not a file in the archive'"
     ]
    }
   ],
   "source": [
    "[np.load(file)[\"struct\"] for file in files]\n",
    "np.load(\"processed_data/zozyuk/points/Figure1B-2.npz\")[\"struct\"]"
   ]
  },
  {
   "cell_type": "code",
   "execution_count": null,
   "id": "dd40e62b-78ee-4e94-b394-8c6f01a2a650",
   "metadata": {},
   "outputs": [],
   "source": []
  }
 ],
 "metadata": {
  "kernelspec": {
   "display_name": "Python 3 (ipykernel)",
   "language": "python",
   "name": "python3"
  },
  "language_info": {
   "codemirror_mode": {
    "name": "ipython",
    "version": 3
   },
   "file_extension": ".py",
   "mimetype": "text/x-python",
   "name": "python",
   "nbconvert_exporter": "python",
   "pygments_lexer": "ipython3",
   "version": "3.8.10"
  }
 },
 "nbformat": 4,
 "nbformat_minor": 5
}
